{
 "cells": [
  {
   "cell_type": "code",
   "execution_count": 1,
   "metadata": {},
   "outputs": [],
   "source": [
    "import sys\n",
    "sys.path.append(\"..\")\n",
    "\n",
    "import matplotlib.pyplot as plt\n",
    "import numpy as np\n",
    "import pandas as pd\n",
    "import seaborn as sns \n",
    "\n",
    "from src.tools import clean_date, clean_date_and_hour, clear_string, period_of_day\n",
    "\n",
    "%matplotlib inline"
   ]
  },
  {
   "cell_type": "markdown",
   "metadata": {},
   "source": [
    "## Create a single dataframe"
   ]
  },
  {
   "cell_type": "code",
   "execution_count": 2,
   "metadata": {},
   "outputs": [
    {
     "name": "stdout",
     "output_type": "stream",
     "text": [
      "(127675, 26)\n",
      "(141043, 26)\n",
      "(158646, 26)\n",
      "(183469, 26)\n",
      "(192326, 26)\n",
      "(184568, 26)\n",
      "(186748, 26)\n",
      "(169201, 26)\n",
      "(122161, 26)\n",
      "(96363, 25)\n",
      "(89518, 30)\n"
     ]
    }
   ],
   "source": [
    "dfs = []\n",
    "for year in range(2007, 2018):\n",
    "    temp_df = pd.read_csv(f'../data/dirty/datatran{year}.csv', sep=';', encoding=\"latin1\", low_memory=False)\n",
    "    print(temp_df.shape)\n",
    "    dfs.append(temp_df)"
   ]
  },
  {
   "cell_type": "code",
   "execution_count": 3,
   "metadata": {},
   "outputs": [
    {
     "data": {
      "text/html": [
       "<div>\n",
       "<style scoped>\n",
       "    .dataframe tbody tr th:only-of-type {\n",
       "        vertical-align: middle;\n",
       "    }\n",
       "\n",
       "    .dataframe tbody tr th {\n",
       "        vertical-align: top;\n",
       "    }\n",
       "\n",
       "    .dataframe thead th {\n",
       "        text-align: right;\n",
       "    }\n",
       "</style>\n",
       "<table border=\"1\" class=\"dataframe\">\n",
       "  <thead>\n",
       "    <tr style=\"text-align: right;\">\n",
       "      <th></th>\n",
       "      <th>index</th>\n",
       "      <th>id</th>\n",
       "      <th>data_inversa</th>\n",
       "      <th>dia_semana</th>\n",
       "      <th>horario</th>\n",
       "      <th>uf</th>\n",
       "      <th>br</th>\n",
       "      <th>km</th>\n",
       "      <th>municipio</th>\n",
       "      <th>causa_acidente</th>\n",
       "      <th>...</th>\n",
       "      <th>feridos_graves</th>\n",
       "      <th>ilesos</th>\n",
       "      <th>ignorados</th>\n",
       "      <th>feridos</th>\n",
       "      <th>veiculos</th>\n",
       "      <th>latitude</th>\n",
       "      <th>longitude</th>\n",
       "      <th>regional</th>\n",
       "      <th>delegacia</th>\n",
       "      <th>uop</th>\n",
       "    </tr>\n",
       "  </thead>\n",
       "  <tbody>\n",
       "    <tr>\n",
       "      <th>1651713</th>\n",
       "      <td>89513</td>\n",
       "      <td>133285</td>\n",
       "      <td>2017-09-10</td>\n",
       "      <td>domingo</td>\n",
       "      <td>11:50:00</td>\n",
       "      <td>AL</td>\n",
       "      <td>316</td>\n",
       "      <td>242</td>\n",
       "      <td>ATALAIA                                       ...</td>\n",
       "      <td>Falta de Atenção à Condução                   ...</td>\n",
       "      <td>...</td>\n",
       "      <td>1</td>\n",
       "      <td>1</td>\n",
       "      <td>0</td>\n",
       "      <td>1</td>\n",
       "      <td>2</td>\n",
       "      <td>-9.508500</td>\n",
       "      <td>-36.017100</td>\n",
       "      <td>SR-AL</td>\n",
       "      <td>DEL13/1</td>\n",
       "      <td>UOP01/AL</td>\n",
       "    </tr>\n",
       "    <tr>\n",
       "      <th>1651714</th>\n",
       "      <td>89514</td>\n",
       "      <td>133485</td>\n",
       "      <td>2017-10-18</td>\n",
       "      <td>quarta-feira</td>\n",
       "      <td>17:20:00</td>\n",
       "      <td>PR</td>\n",
       "      <td>277</td>\n",
       "      <td>5</td>\n",
       "      <td>PARANAGUA                                     ...</td>\n",
       "      <td>Falta de Atenção do Pedestre                  ...</td>\n",
       "      <td>...</td>\n",
       "      <td>0</td>\n",
       "      <td>0</td>\n",
       "      <td>0</td>\n",
       "      <td>2</td>\n",
       "      <td>1</td>\n",
       "      <td>-25.530448</td>\n",
       "      <td>-48.528874</td>\n",
       "      <td>SR-PR</td>\n",
       "      <td>DEL7/1</td>\n",
       "      <td>UOP07/PR</td>\n",
       "    </tr>\n",
       "    <tr>\n",
       "      <th>1651715</th>\n",
       "      <td>89515</td>\n",
       "      <td>133723</td>\n",
       "      <td>2017-12-10</td>\n",
       "      <td>domingo</td>\n",
       "      <td>10:05:00</td>\n",
       "      <td>MT</td>\n",
       "      <td>364</td>\n",
       "      <td>233,5</td>\n",
       "      <td>RONDONOPOLIS                                  ...</td>\n",
       "      <td>Não guardar distância de segurança            ...</td>\n",
       "      <td>...</td>\n",
       "      <td>0</td>\n",
       "      <td>1</td>\n",
       "      <td>0</td>\n",
       "      <td>1</td>\n",
       "      <td>1</td>\n",
       "      <td>-16.237127</td>\n",
       "      <td>-54.781826</td>\n",
       "      <td>SR-MT</td>\n",
       "      <td>DEL2/2</td>\n",
       "      <td>UOP01/MT</td>\n",
       "    </tr>\n",
       "    <tr>\n",
       "      <th>1651716</th>\n",
       "      <td>89516</td>\n",
       "      <td>133740</td>\n",
       "      <td>2017-02-10</td>\n",
       "      <td>sexta-feira</td>\n",
       "      <td>15:50:00</td>\n",
       "      <td>MG</td>\n",
       "      <td>50</td>\n",
       "      <td>61</td>\n",
       "      <td>ARAGUARI                                      ...</td>\n",
       "      <td>Não guardar distância de segurança            ...</td>\n",
       "      <td>...</td>\n",
       "      <td>0</td>\n",
       "      <td>2</td>\n",
       "      <td>1</td>\n",
       "      <td>3</td>\n",
       "      <td>2</td>\n",
       "      <td>-18.810509</td>\n",
       "      <td>-48.246160</td>\n",
       "      <td>SR-MG</td>\n",
       "      <td>DEL4/17</td>\n",
       "      <td>UOP02/MG</td>\n",
       "    </tr>\n",
       "    <tr>\n",
       "      <th>1651717</th>\n",
       "      <td>89517</td>\n",
       "      <td>133958</td>\n",
       "      <td>2017-12-20</td>\n",
       "      <td>quarta-feira</td>\n",
       "      <td>05:00:00</td>\n",
       "      <td>PE</td>\n",
       "      <td>408</td>\n",
       "      <td>84</td>\n",
       "      <td>SAO LOURENCO DA MATA                          ...</td>\n",
       "      <td>Falta de Atenção à Condução                   ...</td>\n",
       "      <td>...</td>\n",
       "      <td>0</td>\n",
       "      <td>0</td>\n",
       "      <td>0</td>\n",
       "      <td>2</td>\n",
       "      <td>1</td>\n",
       "      <td>-7.958815</td>\n",
       "      <td>-35.097381</td>\n",
       "      <td>SR-PE</td>\n",
       "      <td>DEL11/1</td>\n",
       "      <td>UOP01/PE</td>\n",
       "    </tr>\n",
       "  </tbody>\n",
       "</table>\n",
       "<p>5 rows × 32 columns</p>\n",
       "</div>"
      ],
      "text/plain": [
       "         index      id data_inversa    dia_semana   horario  uf   br     km  \\\n",
       "1651713  89513  133285   2017-09-10       domingo  11:50:00  AL  316    242   \n",
       "1651714  89514  133485   2017-10-18  quarta-feira  17:20:00  PR  277      5   \n",
       "1651715  89515  133723   2017-12-10       domingo  10:05:00  MT  364  233,5   \n",
       "1651716  89516  133740   2017-02-10   sexta-feira  15:50:00  MG   50     61   \n",
       "1651717  89517  133958   2017-12-20  quarta-feira  05:00:00  PE  408     84   \n",
       "\n",
       "                                                 municipio  \\\n",
       "1651713  ATALAIA                                       ...   \n",
       "1651714  PARANAGUA                                     ...   \n",
       "1651715  RONDONOPOLIS                                  ...   \n",
       "1651716  ARAGUARI                                      ...   \n",
       "1651717  SAO LOURENCO DA MATA                          ...   \n",
       "\n",
       "                                            causa_acidente  \\\n",
       "1651713  Falta de Atenção à Condução                   ...   \n",
       "1651714  Falta de Atenção do Pedestre                  ...   \n",
       "1651715  Não guardar distância de segurança            ...   \n",
       "1651716  Não guardar distância de segurança            ...   \n",
       "1651717  Falta de Atenção à Condução                   ...   \n",
       "\n",
       "                      ...               feridos_graves ilesos ignorados  \\\n",
       "1651713               ...                            1      1         0   \n",
       "1651714               ...                            0      0         0   \n",
       "1651715               ...                            0      1         0   \n",
       "1651716               ...                            0      2         1   \n",
       "1651717               ...                            0      0         0   \n",
       "\n",
       "        feridos veiculos   latitude  longitude              regional  \\\n",
       "1651713       1        2  -9.508500 -36.017100  SR-AL                  \n",
       "1651714       2        1 -25.530448 -48.528874  SR-PR                  \n",
       "1651715       1        1 -16.237127 -54.781826  SR-MT                  \n",
       "1651716       3        2 -18.810509 -48.246160  SR-MG                  \n",
       "1651717       2        1  -7.958815 -35.097381  SR-PE                  \n",
       "\n",
       "                              delegacia                             uop  \n",
       "1651713  DEL13/1                         UOP01/AL                        \n",
       "1651714  DEL7/1                          UOP07/PR                        \n",
       "1651715  DEL2/2                          UOP01/MT                        \n",
       "1651716  DEL4/17                         UOP02/MG                        \n",
       "1651717  DEL11/1                         UOP01/PE                        \n",
       "\n",
       "[5 rows x 32 columns]"
      ]
     },
     "execution_count": 3,
     "metadata": {},
     "output_type": "execute_result"
    }
   ],
   "source": [
    "df = pd.concat(dfs, sort=False)\n",
    "df = df.reset_index()\n",
    "df.tail()"
   ]
  },
  {
   "cell_type": "code",
   "execution_count": 4,
   "metadata": {},
   "outputs": [
    {
     "data": {
      "text/plain": [
       "(1651718, 32)"
      ]
     },
     "execution_count": 4,
     "metadata": {},
     "output_type": "execute_result"
    }
   ],
   "source": [
    "df.shape"
   ]
  },
  {
   "cell_type": "markdown",
   "metadata": {},
   "source": [
    "Removing features that are not in all datasets"
   ]
  },
  {
   "cell_type": "code",
   "execution_count": 5,
   "metadata": {},
   "outputs": [
    {
     "data": {
      "text/plain": [
       "(1651718, 27)"
      ]
     },
     "execution_count": 5,
     "metadata": {},
     "output_type": "execute_result"
    }
   ],
   "source": [
    "df = df.drop(['latitude', 'longitude', 'regional', 'delegacia', 'uop'], axis=1)\n",
    "df.shape"
   ]
  },
  {
   "cell_type": "markdown",
   "metadata": {},
   "source": [
    "# Fix dates"
   ]
  },
  {
   "cell_type": "code",
   "execution_count": 6,
   "metadata": {},
   "outputs": [],
   "source": [
    "df['date'] = df.data_inversa.apply(clean_date)"
   ]
  },
  {
   "cell_type": "code",
   "execution_count": 7,
   "metadata": {},
   "outputs": [],
   "source": [
    "df['datetime'] = df.apply(lambda row: clean_date_and_hour(row['data_inversa'], row['horario']), axis=1)"
   ]
  },
  {
   "cell_type": "code",
   "execution_count": 8,
   "metadata": {},
   "outputs": [
    {
     "data": {
      "text/plain": [
       "2011    192326\n",
       "2013    186748\n",
       "2012    184568\n",
       "2010    183469\n",
       "2014    169201\n",
       "2009    158646\n",
       "2008    141043\n",
       "2007    127675\n",
       "2015    122161\n",
       "2016     96363\n",
       "2017     89518\n",
       "Name: year, dtype: int64"
      ]
     },
     "execution_count": 8,
     "metadata": {},
     "output_type": "execute_result"
    }
   ],
   "source": [
    "df['year'] = df.datetime.apply(lambda x: x.year)\n",
    "df.year.value_counts()"
   ]
  },
  {
   "cell_type": "code",
   "execution_count": 9,
   "metadata": {},
   "outputs": [],
   "source": [
    "df.drop(['ano'], axis=1, inplace=True)"
   ]
  },
  {
   "cell_type": "code",
   "execution_count": 10,
   "metadata": {
    "scrolled": true
   },
   "outputs": [],
   "source": [
    "df['day'] = df.datetime.apply(lambda x: x.day)"
   ]
  },
  {
   "cell_type": "code",
   "execution_count": 11,
   "metadata": {},
   "outputs": [],
   "source": [
    "df['month'] = df.datetime.apply(lambda x: x.month)\n"
   ]
  },
  {
   "cell_type": "code",
   "execution_count": 12,
   "metadata": {},
   "outputs": [],
   "source": [
    "df.drop(['data_inversa', 'horario'], axis=1, inplace=True)"
   ]
  },
  {
   "cell_type": "code",
   "execution_count": 13,
   "metadata": {},
   "outputs": [
    {
     "data": {
      "text/html": [
       "<div>\n",
       "<style scoped>\n",
       "    .dataframe tbody tr th:only-of-type {\n",
       "        vertical-align: middle;\n",
       "    }\n",
       "\n",
       "    .dataframe tbody tr th {\n",
       "        vertical-align: top;\n",
       "    }\n",
       "\n",
       "    .dataframe thead th {\n",
       "        text-align: right;\n",
       "    }\n",
       "</style>\n",
       "<table border=\"1\" class=\"dataframe\">\n",
       "  <thead>\n",
       "    <tr style=\"text-align: right;\">\n",
       "      <th></th>\n",
       "      <th>index</th>\n",
       "      <th>id</th>\n",
       "      <th>dia_semana</th>\n",
       "      <th>uf</th>\n",
       "      <th>br</th>\n",
       "      <th>km</th>\n",
       "      <th>municipio</th>\n",
       "      <th>causa_acidente</th>\n",
       "      <th>tipo_acidente</th>\n",
       "      <th>classificacao_acidente</th>\n",
       "      <th>...</th>\n",
       "      <th>feridos_graves</th>\n",
       "      <th>ilesos</th>\n",
       "      <th>ignorados</th>\n",
       "      <th>feridos</th>\n",
       "      <th>veiculos</th>\n",
       "      <th>date</th>\n",
       "      <th>datetime</th>\n",
       "      <th>year</th>\n",
       "      <th>day</th>\n",
       "      <th>month</th>\n",
       "    </tr>\n",
       "  </thead>\n",
       "  <tbody>\n",
       "    <tr>\n",
       "      <th>0</th>\n",
       "      <td>0</td>\n",
       "      <td>10</td>\n",
       "      <td>Segunda</td>\n",
       "      <td>MG</td>\n",
       "      <td>381</td>\n",
       "      <td>623.2</td>\n",
       "      <td>OLIVEIRA</td>\n",
       "      <td>Falta de atenção</td>\n",
       "      <td>Colisão frontal</td>\n",
       "      <td>(null)</td>\n",
       "      <td>...</td>\n",
       "      <td>0</td>\n",
       "      <td>5</td>\n",
       "      <td>0</td>\n",
       "      <td>4</td>\n",
       "      <td>6</td>\n",
       "      <td>2007-06-11</td>\n",
       "      <td>2007-06-11 15:30:00</td>\n",
       "      <td>2007</td>\n",
       "      <td>11</td>\n",
       "      <td>6</td>\n",
       "    </tr>\n",
       "    <tr>\n",
       "      <th>1</th>\n",
       "      <td>1</td>\n",
       "      <td>10</td>\n",
       "      <td>Segunda</td>\n",
       "      <td>MG</td>\n",
       "      <td>381</td>\n",
       "      <td>623.2</td>\n",
       "      <td>OLIVEIRA</td>\n",
       "      <td>Falta de atenção</td>\n",
       "      <td>Colisão frontal</td>\n",
       "      <td>(null)</td>\n",
       "      <td>...</td>\n",
       "      <td>0</td>\n",
       "      <td>5</td>\n",
       "      <td>0</td>\n",
       "      <td>4</td>\n",
       "      <td>6</td>\n",
       "      <td>2007-06-11</td>\n",
       "      <td>2007-06-11 15:30:00</td>\n",
       "      <td>2007</td>\n",
       "      <td>11</td>\n",
       "      <td>6</td>\n",
       "    </tr>\n",
       "    <tr>\n",
       "      <th>2</th>\n",
       "      <td>2</td>\n",
       "      <td>1032898</td>\n",
       "      <td>Segunda</td>\n",
       "      <td>MG</td>\n",
       "      <td>40</td>\n",
       "      <td>585.5</td>\n",
       "      <td>ITABIRITO</td>\n",
       "      <td>Outras</td>\n",
       "      <td>Saída de Pista</td>\n",
       "      <td>Com Vítimas Feridas</td>\n",
       "      <td>...</td>\n",
       "      <td>1</td>\n",
       "      <td>2</td>\n",
       "      <td>0</td>\n",
       "      <td>1</td>\n",
       "      <td>1</td>\n",
       "      <td>2007-08-13</td>\n",
       "      <td>2007-08-13 14:25:00</td>\n",
       "      <td>2007</td>\n",
       "      <td>13</td>\n",
       "      <td>8</td>\n",
       "    </tr>\n",
       "    <tr>\n",
       "      <th>3</th>\n",
       "      <td>3</td>\n",
       "      <td>1051130</td>\n",
       "      <td>Segunda</td>\n",
       "      <td>MA</td>\n",
       "      <td>135</td>\n",
       "      <td>11</td>\n",
       "      <td>SAO LUIS</td>\n",
       "      <td>Animais na Pista</td>\n",
       "      <td>Atropelamento de animal</td>\n",
       "      <td>Com Vítimas Fatais</td>\n",
       "      <td>...</td>\n",
       "      <td>1</td>\n",
       "      <td>0</td>\n",
       "      <td>0</td>\n",
       "      <td>3</td>\n",
       "      <td>1</td>\n",
       "      <td>2007-02-12</td>\n",
       "      <td>2007-02-12 02:10:00</td>\n",
       "      <td>2007</td>\n",
       "      <td>12</td>\n",
       "      <td>2</td>\n",
       "    </tr>\n",
       "    <tr>\n",
       "      <th>4</th>\n",
       "      <td>4</td>\n",
       "      <td>1066824</td>\n",
       "      <td>Terça</td>\n",
       "      <td>CE</td>\n",
       "      <td>222</td>\n",
       "      <td>30.8</td>\n",
       "      <td>CAUCAIA</td>\n",
       "      <td>Defeito mecânico em veículo</td>\n",
       "      <td>Capotamento</td>\n",
       "      <td>Com Vítimas Feridas</td>\n",
       "      <td>...</td>\n",
       "      <td>0</td>\n",
       "      <td>0</td>\n",
       "      <td>0</td>\n",
       "      <td>1</td>\n",
       "      <td>1</td>\n",
       "      <td>2007-11-20</td>\n",
       "      <td>2007-11-20 05:30:00</td>\n",
       "      <td>2007</td>\n",
       "      <td>20</td>\n",
       "      <td>11</td>\n",
       "    </tr>\n",
       "  </tbody>\n",
       "</table>\n",
       "<p>5 rows × 29 columns</p>\n",
       "</div>"
      ],
      "text/plain": [
       "   index       id dia_semana  uf   br     km  municipio  \\\n",
       "0      0       10    Segunda  MG  381  623.2   OLIVEIRA   \n",
       "1      1       10    Segunda  MG  381  623.2   OLIVEIRA   \n",
       "2      2  1032898    Segunda  MG   40  585.5  ITABIRITO   \n",
       "3      3  1051130    Segunda  MA  135     11   SAO LUIS   \n",
       "4      4  1066824      Terça  CE  222   30.8    CAUCAIA   \n",
       "\n",
       "                causa_acidente            tipo_acidente  \\\n",
       "0             Falta de atenção          Colisão frontal   \n",
       "1             Falta de atenção          Colisão frontal   \n",
       "2                       Outras           Saída de Pista   \n",
       "3             Animais na Pista  Atropelamento de animal   \n",
       "4  Defeito mecânico em veículo              Capotamento   \n",
       "\n",
       "  classificacao_acidente  ...   feridos_graves ilesos ignorados feridos  \\\n",
       "0                 (null)  ...                0      5         0       4   \n",
       "1                 (null)  ...                0      5         0       4   \n",
       "2    Com Vítimas Feridas  ...                1      2         0       1   \n",
       "3     Com Vítimas Fatais  ...                1      0         0       3   \n",
       "4    Com Vítimas Feridas  ...                0      0         0       1   \n",
       "\n",
       "  veiculos        date            datetime  year  day  month  \n",
       "0        6  2007-06-11 2007-06-11 15:30:00  2007   11      6  \n",
       "1        6  2007-06-11 2007-06-11 15:30:00  2007   11      6  \n",
       "2        1  2007-08-13 2007-08-13 14:25:00  2007   13      8  \n",
       "3        1  2007-02-12 2007-02-12 02:10:00  2007   12      2  \n",
       "4        1  2007-11-20 2007-11-20 05:30:00  2007   20     11  \n",
       "\n",
       "[5 rows x 29 columns]"
      ]
     },
     "execution_count": 13,
     "metadata": {},
     "output_type": "execute_result"
    }
   ],
   "source": [
    "df.head()"
   ]
  },
  {
   "cell_type": "markdown",
   "metadata": {},
   "source": [
    "# Removing lines that doesn't have our target variable"
   ]
  },
  {
   "cell_type": "code",
   "execution_count": 14,
   "metadata": {},
   "outputs": [
    {
     "data": {
      "text/plain": [
       "Sem Vítimas            937965\n",
       "Com Vítimas Feridas    634033\n",
       "Com Vítimas Fatais      68034\n",
       "Ignorado                11660\n",
       "(null)                     25\n",
       "NaN                         1\n",
       "Name: classificacao_acidente, dtype: int64"
      ]
     },
     "execution_count": 14,
     "metadata": {},
     "output_type": "execute_result"
    }
   ],
   "source": [
    "df.classificacao_acidente.value_counts(dropna=False)"
   ]
  },
  {
   "cell_type": "code",
   "execution_count": 15,
   "metadata": {},
   "outputs": [
    {
     "name": "stdout",
     "output_type": "stream",
     "text": [
      "(1651718, 29)\n",
      "(1640032, 29)\n"
     ]
    }
   ],
   "source": [
    "print(df.shape)\n",
    "df = df[~df.classificacao_acidente.isin(['(null)', 'Ignorado', np.nan])]\n",
    "print(df.shape)"
   ]
  },
  {
   "cell_type": "markdown",
   "metadata": {},
   "source": [
    "# Fixing columns "
   ]
  },
  {
   "cell_type": "code",
   "execution_count": 16,
   "metadata": {
    "scrolled": true
   },
   "outputs": [],
   "source": [
    "for col in df.columns:\n",
    "    if col == 'br' or col == 'km':\n",
    "        continue\n",
    "    if df[col].dtype == object:\n",
    "        df[col] = df[col].apply(clear_string)"
   ]
  },
  {
   "cell_type": "code",
   "execution_count": 17,
   "metadata": {},
   "outputs": [],
   "source": [
    "df = df.replace('nan', np.nan)"
   ]
  },
  {
   "cell_type": "code",
   "execution_count": 18,
   "metadata": {},
   "outputs": [],
   "source": [
    "def create_target(value):\n",
    "    if value == 'sem vitimas':\n",
    "        return 0\n",
    "    if value == 'com vitimas feridas':\n",
    "        return 1\n",
    "    return 2\n",
    "\n",
    "df['target'] = df.classificacao_acidente.apply(create_target)\n",
    "df.drop(['classificacao_acidente'], axis=1, inplace=True)"
   ]
  },
  {
   "cell_type": "code",
   "execution_count": 19,
   "metadata": {},
   "outputs": [
    {
     "data": {
      "text/plain": [
       "Index(['index', 'id', 'dia_semana', 'uf', 'br', 'km', 'municipio',\n",
       "       'causa_acidente', 'tipo_acidente', 'fase_dia', 'sentido_via',\n",
       "       'condicao_metereologica', 'tipo_pista', 'tracado_via', 'uso_solo',\n",
       "       'pessoas', 'mortos', 'feridos_leves', 'feridos_graves', 'ilesos',\n",
       "       'ignorados', 'feridos', 'veiculos', 'date', 'datetime', 'year', 'day',\n",
       "       'month', 'target'],\n",
       "      dtype='object')"
      ]
     },
     "execution_count": 19,
     "metadata": {},
     "output_type": "execute_result"
    }
   ],
   "source": [
    "df.columns"
   ]
  },
  {
   "cell_type": "markdown",
   "metadata": {},
   "source": [
    "# Translating and simplifing Accident causes"
   ]
  },
  {
   "cell_type": "code",
   "execution_count": 20,
   "metadata": {},
   "outputs": [
    {
     "data": {
      "text/plain": [
       "lack of attention                       540392\n",
       "other                                   444980\n",
       "not keeping safety distance             145724\n",
       "unsuitable speed                        142178\n",
       "mechanical defect                        67289\n",
       "alcohol intake                           67285\n",
       "disobedience to signaling                63567\n",
       "fell asleep                              44415\n",
       "animals on the road                      44253\n",
       "improper overshoot                       37260\n",
       "road defect                              24913\n",
       "disobedience to the rules of transit      5216\n",
       "slippery road                             4248\n",
       "lack of attention of the pedestrian       2389\n",
       "tire problems                             1587\n",
       "sudden onset                               969\n",
       "low visibility                             884\n",
       "static object on the carabiner bed         770\n",
       "excessive cargo                            545\n",
       "nature phenomena                           442\n",
       "unsufficient signalization                 412\n",
       "vehicule illumination defect               234\n",
       "drug intake                                 78\n",
       "external agression                           2\n",
       "Name: accident_causes, dtype: int64"
      ]
     },
     "execution_count": 20,
     "metadata": {},
     "output_type": "execute_result"
    }
   ],
   "source": [
    "accident_causes = {\n",
    "    'falta de atencao': 'lack of attention',\n",
    "    'outras': 'other',\n",
    "    'nao guardar distancia de seguranca': 'not keeping safety distance',\n",
    "    'velocidade incompativel': 'unsuitable speed',\n",
    "    'desobediencia a sinalizacao': 'disobedience to signaling',\n",
    "    'defeito mecanico em veiculo': 'mechanical defect',\n",
    "    'ingestao de alcool': 'alcohol intake', \n",
    "    'animais na pista': 'animals on the road',\n",
    "    'dormindo': 'fell asleep',\n",
    "    'ultrapassagem indevida': 'improper overshoot',\n",
    "    'falta de atencao a conducao': 'lack of attention',\n",
    "    'defeito na via': 'road defect',\n",
    "    'velocidade incompativel': 'unsuitable speed',\n",
    "    'ingestao de alcool': 'alcohol intake',\n",
    "    'nao guardar distancia de seguranca': 'not keeping safety distance',\n",
    "    'desobediencia as normas de transito pelo condutor': 'disobedience to the rules of transit',\n",
    "    'defeito mecanico no veiculo': 'mechanical defect',\n",
    "    'pista escorregadia': 'slippery road',\n",
    "    'condutor dormindo': 'fell asleep',\n",
    "    'animais na pista': 'animals on the road',\n",
    "    'falta de atencao do pedestre': 'lack of attention of the pedestrian',\n",
    "    'ultrapassagem indevida': 'improper overshoot',\n",
    "    'avarias e/ou desgaste excessivo no pneu': 'tire problems',\n",
    "    'defeito na via': 'road defect',\n",
    "    'mal subito': 'sudden onset',\n",
    "    'restricao de visibilidade': 'low visibility',\n",
    "    'objeto estatico sobre o leito carrocavel': 'static object on the carabiner bed',\n",
    "    'carga excessiva e/ou mal acondicionada': 'excessive cargo',\n",
    "    'fenomenos da natureza': 'nature phenomena',\n",
    "    'sinalizacao da via insuficiente ou inadequada': 'unsufficient signalization',\n",
    "    'deficiencia ou nao acionamento do sistema de iluminacao/sinalizacao do veiculo': 'vehicule illumination defect',\n",
    "    'ingestao de substancias psicoativas': 'drug intake',\n",
    "    'agressao externa': 'external agression',\n",
    "    '(null)': 'other',\n",
    "}\n",
    "\n",
    "df['accident_causes'] = df.causa_acidente.apply(lambda x: accident_causes[x.strip()])\n",
    "df.accident_causes.value_counts()"
   ]
  },
  {
   "cell_type": "code",
   "execution_count": 21,
   "metadata": {},
   "outputs": [
    {
     "data": {
      "text/plain": [
       "driver_issue    1047084\n",
       "other            444982\n",
       "road_issue        77541\n",
       "car_issue         70425\n",
       "Name: accident_causes_simplified, dtype: int64"
      ]
     },
     "execution_count": 21,
     "metadata": {},
     "output_type": "execute_result"
    }
   ],
   "source": [
    "accident_causes_simplified = {\n",
    "    'falta de atencao': 'driver_issue',\n",
    "    'outras': 'other',\n",
    "    'nao guardar distancia de seguranca': 'driver_issue',\n",
    "    'velocidade incompativel': 'driver_issue',\n",
    "    'desobediencia a sinalizacao': 'driver_issue',\n",
    "    'defeito mecanico em veiculo': 'car_issue',\n",
    "    'ingestao de alcool': 'driver_issue', \n",
    "    'animais na pista': 'road_issue',\n",
    "    'dormindo': 'driver_issue',\n",
    "    'ultrapassagem indevida': 'driver_issue',\n",
    "    'falta de atencao a conducao': 'driver_issue',\n",
    "    'defeito na via': 'road_issue',\n",
    "    'velocidade incompativel': 'driver_issue',\n",
    "    'ingestao de alcool': 'driver_issue',\n",
    "    'nao guardar distancia de seguranca': 'driver_issue',\n",
    "    'desobediencia as normas de transito pelo condutor': 'driver_issue',\n",
    "    'defeito mecanico no veiculo': 'car_issue',\n",
    "    'pista escorregadia': 'road_issue',\n",
    "    'condutor dormindo': 'driver_issue',\n",
    "    'animais na pista': 'road_issue',\n",
    "    'falta de atencao do pedestre': 'road_issue',\n",
    "    'ultrapassagem indevida': 'driver_issue',\n",
    "    'avarias e/ou desgaste excessivo no pneu': 'car_issue',\n",
    "    'defeito na via': 'road_issue',\n",
    "    'mal subito': 'driver_issue',\n",
    "    'restricao de visibilidade': 'road_issue',\n",
    "    'objeto estatico sobre o leito carrocavel': 'car_issue',\n",
    "    'carga excessiva e/ou mal acondicionada': 'car_issue',\n",
    "    'fenomenos da natureza': 'road_issue',\n",
    "    'sinalizacao da via insuficiente ou inadequada': 'road_issue',\n",
    "    'deficiencia ou nao acionamento do sistema de iluminacao/sinalizacao do veiculo': 'car_issue',\n",
    "    'ingestao de substancias psicoativas': 'driver_issue',\n",
    "    'agressao externa': 'other',\n",
    "    '(null)': 'other',\n",
    "}\n",
    "\n",
    "df['accident_causes_simplified'] = df.causa_acidente.apply(lambda x: accident_causes_simplified[x.strip()])\n",
    "df.accident_causes_simplified.value_counts()"
   ]
  },
  {
   "cell_type": "code",
   "execution_count": 22,
   "metadata": {},
   "outputs": [],
   "source": [
    "df.drop(['causa_acidente'], axis=1, inplace=True)"
   ]
  },
  {
   "cell_type": "markdown",
   "metadata": {},
   "source": [
    "# Translating and simplifing Accident Types"
   ]
  },
  {
   "cell_type": "code",
   "execution_count": 23,
   "metadata": {},
   "outputs": [
    {
     "data": {
      "text/plain": [
       "rear collision                  449861\n",
       "lateral collision               264406\n",
       "out of road                     228109\n",
       "transversal collision           166603\n",
       "collision                        99222\n",
       "rollover                         79895\n",
       "tipping                          69487\n",
       "front collision                  63324\n",
       "vehicle fall                     52019\n",
       "people trampling                 47477\n",
       "animal trampling                 38040\n",
       "collision with bike              18518\n",
       "carriage bed outlet              15673\n",
       "collision with moving object     15494\n",
       "eventual damage                   9963\n",
       "cargo spill                       8960\n",
       "fire                              8172\n",
       "vehicle occupant fall             3615\n",
       "pestle                            1194\n",
       "Name: accident_types, dtype: int64"
      ]
     },
     "execution_count": 23,
     "metadata": {},
     "output_type": "execute_result"
    }
   ],
   "source": [
    "accident_types = {\n",
    "    'colisao traseira': 'rear collision', \n",
    "    'colisao lateral': 'lateral collision', \n",
    "    'saida de pista': 'out of road',\n",
    "    'colisao transversal': 'transversal collision', \n",
    "    'colisao com objeto fixo': 'collision', \n",
    "    'capotamento': 'rollover',\n",
    "    'tombamento': 'tipping', \n",
    "    'colisao frontal': 'front collision',\n",
    "    'queda de motocicleta / bicicleta / veiculo': 'vehicle fall',\n",
    "    'atropelamento de pessoa': 'people trampling', \n",
    "    'atropelamento de animal': 'animal trampling',\n",
    "    'colisao com bicicleta': 'collision with bike',\n",
    "    'saida de leito carrocavel': 'carriage bed outlet',\n",
    "    'colisao com objeto movel': 'collision with moving object', \n",
    "    'danos eventuais': 'eventual damage',\n",
    "    'derramamento de carga': 'cargo spill', \n",
    "    'incendio': 'fire', \n",
    "    'colisao com objeto estatico': 'collision',\n",
    "    'atropelamento de pedestre': 'people trampling',\n",
    "    'queda de ocupante de veiculo': 'vehicle occupant fall',\n",
    "    'engavetamento': 'pestle', \n",
    "    'colisao com objeto em movimento': 'collision with moving object',\n",
    "}\n",
    "\n",
    "df['accident_types'] = df.tipo_acidente.apply(lambda x: accident_types[x.strip()])\n",
    "df.accident_types.value_counts()"
   ]
  },
  {
   "cell_type": "code",
   "execution_count": 24,
   "metadata": {},
   "outputs": [
    {
     "data": {
      "text/plain": [
       "collision                1077428\n",
       "out of road               228109\n",
       "trampling                  85517\n",
       "rollover                   79895\n",
       "tipping                    69487\n",
       "vehicle fall               52019\n",
       "carriage bed outlet        15673\n",
       "eventual damage             9963\n",
       "cargo spill                 8960\n",
       "fire                        8172\n",
       "vehicle occupant fall       3615\n",
       "pestle                      1194\n",
       "Name: accident_types_simplified, dtype: int64"
      ]
     },
     "execution_count": 24,
     "metadata": {},
     "output_type": "execute_result"
    }
   ],
   "source": [
    "accident_types_simplified = {\n",
    "    'colisao traseira': 'collision', \n",
    "    'colisao lateral': 'collision', \n",
    "    'saida de pista': 'out of road',\n",
    "    'colisao transversal': 'collision', \n",
    "    'colisao com objeto fixo': 'collision', \n",
    "    'capotamento': 'rollover',\n",
    "    'tombamento': 'tipping', \n",
    "    'colisao frontal': 'collision',\n",
    "    'queda de motocicleta / bicicleta / veiculo': 'vehicle fall',\n",
    "    'atropelamento de pessoa': 'trampling', \n",
    "    'atropelamento de animal': 'trampling',\n",
    "    'colisao com bicicleta': 'collision',\n",
    "    'saida de leito carrocavel': 'carriage bed outlet',\n",
    "    'colisao com objeto movel': 'collision', \n",
    "    'danos eventuais': 'eventual damage',\n",
    "    'derramamento de carga': 'cargo spill', \n",
    "    'incendio': 'fire', \n",
    "    'colisao com objeto estatico': 'collision',\n",
    "    'atropelamento de pedestre': 'trampling',\n",
    "    'queda de ocupante de veiculo': 'vehicle occupant fall',\n",
    "    'engavetamento': 'pestle', \n",
    "    'colisao com objeto em movimento': 'collision',\n",
    "}\n",
    "\n",
    "df['accident_types_simplified'] = df.tipo_acidente.apply(\n",
    "    lambda x: accident_types_simplified[x.strip()]\n",
    ")\n",
    "df.accident_types_simplified.value_counts()"
   ]
  },
  {
   "cell_type": "code",
   "execution_count": 25,
   "metadata": {},
   "outputs": [],
   "source": [
    "df.drop(['tipo_acidente'], axis=1, inplace=True)"
   ]
  },
  {
   "cell_type": "markdown",
   "metadata": {},
   "source": [
    "# Extracting date information\n",
    "\n",
    "Using datetime.weekday function we have Monday as 0 and Sunday as 6"
   ]
  },
  {
   "cell_type": "code",
   "execution_count": 26,
   "metadata": {},
   "outputs": [
    {
     "data": {
      "text/plain": [
       "4    266825\n",
       "5    255703\n",
       "6    242756\n",
       "0    225939\n",
       "3    224989\n",
       "2    215396\n",
       "1    208424\n",
       "Name: weekday, dtype: int64"
      ]
     },
     "execution_count": 26,
     "metadata": {},
     "output_type": "execute_result"
    }
   ],
   "source": [
    "df['weekday'] = df.datetime.apply(lambda x: x.weekday())\n",
    "df.weekday.value_counts()"
   ]
  },
  {
   "cell_type": "code",
   "execution_count": 27,
   "metadata": {},
   "outputs": [],
   "source": [
    "df.drop(['dia_semana'], axis=1, inplace=True)"
   ]
  },
  {
   "cell_type": "code",
   "execution_count": 28,
   "metadata": {},
   "outputs": [],
   "source": [
    "df['hour'] = df.datetime.apply(lambda x: x.hour)"
   ]
  },
  {
   "cell_type": "code",
   "execution_count": 29,
   "metadata": {},
   "outputs": [
    {
     "data": {
      "text/plain": [
       "<matplotlib.axes._subplots.AxesSubplot at 0x1a2122af28>"
      ]
     },
     "execution_count": 29,
     "metadata": {},
     "output_type": "execute_result"
    },
    {
     "data": {
      "image/png": "[encoded data removed]",
      "text/plain": [
       "<Figure size 1080x360 with 2 Axes>"
      ]
     },
     "metadata": {
      "needs_background": "light"
     },
     "output_type": "display_data"
    }
   ],
   "source": [
    "grouped = df.groupby(['fase_dia', 'hour']).size().unstack()\n",
    "\n",
    "plt.figure(figsize=(15,5))\n",
    "sns.heatmap(grouped, cmap='bone_r')"
   ]
  },
  {
   "cell_type": "code",
   "execution_count": 30,
   "metadata": {},
   "outputs": [],
   "source": [
    "df['period_of_day'] = df.hour.apply(period_of_day)\n",
    "df.drop(['fase_dia'], axis=1, inplace=True)"
   ]
  },
  {
   "cell_type": "markdown",
   "metadata": {},
   "source": [
    "# Cleaning road characteristics"
   ]
  },
  {
   "cell_type": "code",
   "execution_count": 31,
   "metadata": {
    "scrolled": true
   },
   "outputs": [
    {
     "data": {
      "text/plain": [
       "crescente        840239\n",
       "decrescente      799647\n",
       "nao informado       146\n",
       "Name: sentido_via, dtype: int64"
      ]
     },
     "execution_count": 31,
     "metadata": {},
     "output_type": "execute_result"
    }
   ],
   "source": [
    "df.sentido_via.value_counts()"
   ]
  },
  {
   "cell_type": "code",
   "execution_count": 32,
   "metadata": {},
   "outputs": [],
   "source": [
    "direction_translation = {\n",
    "    'crescente': 'crescent',\n",
    "    'decrescente': 'decrescent',\n",
    "    'nao informado': 'not informed',\n",
    "}\n",
    "\n",
    "df['road_direction'] = df.sentido_via.apply(lambda x: direction_translation[x])\n",
    "df.drop(['sentido_via'], axis=1, inplace=True)"
   ]
  },
  {
   "cell_type": "code",
   "execution_count": 33,
   "metadata": {},
   "outputs": [
    {
     "data": {
      "text/plain": [
       "simples     858901\n",
       "dupla       657750\n",
       "multipla    123371\n",
       "(null)          10\n",
       "Name: tipo_pista, dtype: int64"
      ]
     },
     "execution_count": 33,
     "metadata": {},
     "output_type": "execute_result"
    }
   ],
   "source": [
    "df.tipo_pista.value_counts(dropna=False)"
   ]
  },
  {
   "cell_type": "markdown",
   "metadata": {},
   "source": [
    "### remove where we don't know the type of road "
   ]
  },
  {
   "cell_type": "code",
   "execution_count": 34,
   "metadata": {},
   "outputs": [],
   "source": [
    "df = df[df.tipo_pista != '(null)']"
   ]
  },
  {
   "cell_type": "code",
   "execution_count": 35,
   "metadata": {},
   "outputs": [],
   "source": [
    "type_of_road_translation = {\n",
    "    'simples': 'simple',\n",
    "    'dupla': 'double',\n",
    "    'multipla': 'multiple'\n",
    "}\n",
    "\n",
    "df['type_of_road'] = df.tipo_pista.apply(lambda x: type_of_road_translation[x])\n",
    "df.drop(['tipo_pista'], axis=1, inplace=True)"
   ]
  },
  {
   "cell_type": "code",
   "execution_count": 36,
   "metadata": {},
   "outputs": [
    {
     "data": {
      "text/plain": [
       "reta                     1168329\n",
       "curva                     351599\n",
       "cruzamento                101521\n",
       "nao informado               8117\n",
       "intersecao de vias          3815\n",
       "desvio temporario           2507\n",
       "rotatoria                   1864\n",
       "retorno regulamentado       1000\n",
       "viaduto                      654\n",
       "ponte                        533\n",
       "tunel                         83\n",
       "Name: tracado_via, dtype: int64"
      ]
     },
     "execution_count": 36,
     "metadata": {},
     "output_type": "execute_result"
    }
   ],
   "source": [
    "df.tracado_via.value_counts(dropna=False)"
   ]
  },
  {
   "cell_type": "code",
   "execution_count": 37,
   "metadata": {},
   "outputs": [],
   "source": [
    "road_layout_translation = {\n",
    "    'reta': 'straight', \n",
    "    'curva': 'curve', \n",
    "    'cruzamento': 'crossroad', \n",
    "    'nao informado': 'unknown', \n",
    "    'intersecao de vias': 'road intersection',\n",
    "    'desvio temporario': 'temporary detour', \n",
    "    'rotatoria': 'roundabout', \n",
    "    'retorno regulamentado': 'return', \n",
    "    'viaduto': 'viaduct',\n",
    "    'ponte': 'bridge', \n",
    "    'tunel': 'tunnel',\n",
    "}\n",
    "\n",
    "df['road_layout'] = df.tracado_via.apply(lambda x: road_layout_translation[x])\n",
    "df.drop(['tracado_via'], axis=1, inplace=True)"
   ]
  },
  {
   "cell_type": "code",
   "execution_count": 38,
   "metadata": {},
   "outputs": [
    {
     "data": {
      "text/plain": [
       "straight     1168329\n",
       "curve         351599\n",
       "crossroad     101521\n",
       "other          10456\n",
       "unknown         8117\n",
       "Name: road_layout_simplified, dtype: int64"
      ]
     },
     "execution_count": 38,
     "metadata": {},
     "output_type": "execute_result"
    }
   ],
   "source": [
    "road_layout_simplified = {\n",
    "    'straight': 'straight', \n",
    "    'curve': 'curve', \n",
    "    'crossroad': 'crossroad', \n",
    "    'unknown': 'unknown', \n",
    "    'road intersection': 'other',\n",
    "    'temporary detour': 'other', \n",
    "    'roundabout': 'other', \n",
    "    'return': 'other', \n",
    "    'viaduct': 'other',\n",
    "    'bridge': 'other', \n",
    "    'tunnel': 'other',\n",
    "}\n",
    "df['road_layout_simplified'] = df.road_layout.apply(lambda x: road_layout_simplified[x])\n",
    "df['road_layout_simplified'].value_counts()"
   ]
  },
  {
   "cell_type": "code",
   "execution_count": 39,
   "metadata": {},
   "outputs": [
    {
     "data": {
      "text/plain": [
       "urbano    809425\n",
       "rural     741079\n",
       "nao        52838\n",
       "sim        36680\n",
       "Name: uso_solo, dtype: int64"
      ]
     },
     "execution_count": 39,
     "metadata": {},
     "output_type": "execute_result"
    }
   ],
   "source": [
    "df.uso_solo.value_counts()"
   ]
  },
  {
   "cell_type": "code",
   "execution_count": 40,
   "metadata": {},
   "outputs": [],
   "source": [
    "df.drop(['uso_solo'], axis=1, inplace=True)"
   ]
  },
  {
   "cell_type": "markdown",
   "metadata": {},
   "source": [
    "# Cleaning weather"
   ]
  },
  {
   "cell_type": "code",
   "execution_count": 41,
   "metadata": {},
   "outputs": [
    {
     "data": {
      "text/plain": [
       "ceu claro           795378\n",
       "nublado             297002\n",
       "chuva               282520\n",
       "sol                 210881\n",
       "ignorada             27840\n",
       "nevoeiro/neblina     16883\n",
       "vento                 4439\n",
       "garoa/chuvisco        3141\n",
       "ignorado              1480\n",
       "granizo                292\n",
       "neve                   105\n",
       "(null)                  58\n",
       "Name: condicao_metereologica, dtype: int64"
      ]
     },
     "execution_count": 41,
     "metadata": {},
     "output_type": "execute_result"
    }
   ],
   "source": [
    "df.condicao_metereologica.value_counts()"
   ]
  },
  {
   "cell_type": "code",
   "execution_count": 42,
   "metadata": {},
   "outputs": [],
   "source": [
    "weather_translation = {\n",
    "    'ceu claro': 'clear sky', \n",
    "    'nublado': 'cloudy', \n",
    "    'chuva': 'rain', \n",
    "    'sol': 'sun', \n",
    "    'ignorada': 'unknown', \n",
    "    'nevoeiro/neblina': 'foggy',\n",
    "    'vento': 'windy', \n",
    "    'garoa/chuvisco': 'drizzle', \n",
    "    'ignorado': 'unknown', \n",
    "    'granizo': 'hail', \n",
    "    'neve': 'snow', \n",
    "    '(null)': 'unknown',\n",
    "}\n",
    "\n",
    "df['weather'] = df.condicao_metereologica.fillna('(null)').apply(lambda x: weather_translation[x])\n",
    "df.drop(['condicao_metereologica'], axis=1, inplace=True)"
   ]
  },
  {
   "cell_type": "code",
   "execution_count": 43,
   "metadata": {},
   "outputs": [
    {
     "data": {
      "text/plain": [
       "clear sky    795378\n",
       "cloudy       297002\n",
       "rain         282520\n",
       "sun          210881\n",
       "unknown       29381\n",
       "foggy         16883\n",
       "windy          4439\n",
       "drizzle        3141\n",
       "hail            292\n",
       "snow            105\n",
       "Name: weather, dtype: int64"
      ]
     },
     "execution_count": 43,
     "metadata": {},
     "output_type": "execute_result"
    }
   ],
   "source": [
    "df.weather.value_counts()"
   ]
  },
  {
   "cell_type": "code",
   "execution_count": 44,
   "metadata": {},
   "outputs": [],
   "source": [
    "weather_simplified = {\n",
    "    'clear sky': 'clear sky', \n",
    "    'cloudy': 'cloudy', \n",
    "    'rain': 'rain', \n",
    "    'sun': 'clear sky', \n",
    "    'unknown': 'unknown', \n",
    "    'foggy': 'bad weather', \n",
    "    'windy': 'windy',\n",
    "    'drizzle': 'bad weather', \n",
    "    'hail': 'bad weather', \n",
    "    'snow': 'bad weather',\n",
    "}\n",
    "\n",
    "df['weather_simplified'] = df.weather.apply(lambda x: weather_simplified[x])"
   ]
  },
  {
   "cell_type": "code",
   "execution_count": 45,
   "metadata": {},
   "outputs": [
    {
     "data": {
      "text/plain": [
       "clear sky      1006259\n",
       "cloudy          297002\n",
       "rain            282520\n",
       "unknown          29381\n",
       "bad weather      20421\n",
       "windy             4439\n",
       "Name: weather_simplified, dtype: int64"
      ]
     },
     "execution_count": 45,
     "metadata": {},
     "output_type": "execute_result"
    }
   ],
   "source": [
    "df.weather_simplified.value_counts()"
   ]
  },
  {
   "cell_type": "markdown",
   "metadata": {},
   "source": [
    "# Cleaning / renaming numerical variables"
   ]
  },
  {
   "cell_type": "code",
   "execution_count": 49,
   "metadata": {},
   "outputs": [],
   "source": [
    "df.rename(columns={\n",
    "    'municipio': 'county',\n",
    "    'pessoas': 'num_of_people',\n",
    "    'mortos': 'deceased',\n",
    "    'feridos_leves': 'mild_injured',\n",
    "    'feridos_graves': 'severe_injured',\n",
    "    'ilesos': 'unharmed',\n",
    "    'feridos': 'injured',\n",
    "    'veiculos': 'num_of_vehicles',\n",
    "}, inplace=True)"
   ]
  },
  {
   "cell_type": "code",
   "execution_count": 51,
   "metadata": {},
   "outputs": [],
   "source": [
    "df.drop(['ignorados'], axis=1, inplace=True)"
   ]
  },
  {
   "cell_type": "code",
   "execution_count": 52,
   "metadata": {},
   "outputs": [
    {
     "data": {
      "text/plain": [
       "Index(['index', 'id', 'uf', 'br', 'km', 'county', 'num_of_people', 'deceased',\n",
       "       'mild_injured', 'severe_injured', 'unharmed', 'injured',\n",
       "       'num_of_vehicles', 'date', 'datetime', 'year', 'day', 'month', 'target',\n",
       "       'accident_causes', 'accident_causes_simplified', 'accident_types',\n",
       "       'accident_types_simplified', 'weekday', 'hour', 'period_of_day',\n",
       "       'road_direction', 'type_of_road', 'road_layout',\n",
       "       'road_layout_simplified', 'weather', 'weather_simplified'],\n",
       "      dtype='object')"
      ]
     },
     "execution_count": 52,
     "metadata": {},
     "output_type": "execute_result"
    }
   ],
   "source": [
    "df.columns"
   ]
  },
  {
   "cell_type": "markdown",
   "metadata": {},
   "source": [
    "# Saving cleaned dataset"
   ]
  },
  {
   "cell_type": "code",
   "execution_count": 53,
   "metadata": {},
   "outputs": [],
   "source": [
    "df.to_csv('../data/clean/car_accidents.csv', index=False)"
   ]
  }
 ],
 "metadata": {
  "kernelspec": {
   "display_name": "Python 3",
   "language": "python",
   "name": "python3"
  },
  "language_info": {
   "codemirror_mode": {
    "name": "ipython",
    "version": 3
   },
   "file_extension": ".py",
   "mimetype": "text/x-python",
   "name": "python",
   "nbconvert_exporter": "python",
   "pygments_lexer": "ipython3",
   "version": "3.7.2"
  }
 },
 "nbformat": 4,
 "nbformat_minor": 2
}
